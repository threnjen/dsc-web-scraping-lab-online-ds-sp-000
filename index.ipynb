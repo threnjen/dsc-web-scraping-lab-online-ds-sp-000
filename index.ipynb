{
 "cells": [
  {
   "cell_type": "markdown",
   "metadata": {},
   "source": [
    "# Web Scraping - Lab\n",
    "\n",
    "## Introduction\n",
    "\n",
    "Now that you've seen a more extensive example of developing a web scraping script, it's time to further practice and formalize that knowledge by writing functions to parse specific pieces of information from the web page and then synthesizing these into a larger loop that will iterate over successive web pages in order to build a complete dataset.\n",
    "\n",
    "## Objectives\n",
    "\n",
    "You will be able to:\n",
    "\n",
    "* Navigate HTML documents using Beautiful Soup's children and sibling relations\n",
    "* Select specific elements from HTML using Beautiful Soup\n",
    "* Use regular expressions to extract items with a certain pattern within Beautiful Soup\n",
    "* Determine the pagination scheme of a website and scrape multiple pages"
   ]
  },
  {
   "cell_type": "markdown",
   "metadata": {},
   "source": [
    "## Lab Overview\n",
    "\n",
    "This lab will build upon the previous lesson. In the end, you'll look to write a script that will iterate over all of the pages for the demo site and extract the title, price, star rating and availability of each book listed. Building up to that, you'll formalize the concepts from the lesson by writing functions that will extract a list of each of these features for each web page. You'll then combine these functions into the full script which will look something like this:  \n",
    "\n",
    "```python\n",
    "df = pd.DataFrame()\n",
    "for i in range(2,51):\n",
    "    url = \"http://books.toscrape.com/catalogue/page-{}.html\".format(i)\n",
    "    soup = BeautifulSoup(html_page.content, 'html.parser')\n",
    "    new_titles = retrieve_titles(soup)\n",
    "    new_star_ratings = retrieve_ratings(soup)\n",
    "    new_prices = retrieve_prices(soup)\n",
    "    new_avails = retrieve_avails(soup)\n",
    "    ...\n",
    " ```"
   ]
  },
  {
   "cell_type": "code",
   "execution_count": 1,
   "metadata": {},
   "outputs": [],
   "source": [
    "from bs4 import BeautifulSoup as bs\n",
    "import requests\n",
    "import re\n",
    "import pandas as pd\n",
    "\n",
    "pageurl = 'http://books.toscrape.com/'\n",
    "page = requests.get(pageurl)\n",
    "soup = bs(page.content, 'html.parser')"
   ]
  },
  {
   "cell_type": "code",
   "execution_count": 2,
   "metadata": {},
   "outputs": [],
   "source": [
    "# function that finds our content block which includes both the book info and the Next button\n",
    "def find_block(soup):\n",
    "    selection = soup.find('div', class_=\"alert alert-warning\")\n",
    "    books = selection.nextSibling.nextSibling \n",
    "    return books"
   ]
  },
  {
   "cell_type": "code",
   "execution_count": 3,
   "metadata": {},
   "outputs": [],
   "source": [
    "# function that gets the titles of the books\n",
    "def retrieve_titles(books):\n",
    "    titles = books.findAll('h3')\n",
    "    alltitles = [item.find('a').attrs['title'] for item in titles]\n",
    "    return alltitles"
   ]
  },
  {
   "cell_type": "code",
   "execution_count": 4,
   "metadata": {},
   "outputs": [],
   "source": [
    "# function that gets the ratings of the books\n",
    "def retrieve_ratings(books):\n",
    "    ratings = []\n",
    "    regex = re.compile(\"star-rating (.*)\")\n",
    "    raw_ratings = books.findAll('p', {\"class\" : regex})\n",
    "    for rating in raw_ratings:\n",
    "        ratings.append(rating['class'][1]) \n",
    "    conversion = {'One' : 1, 'Two' : 2, 'Three' : 3, 'Four' : 4, 'Five' : 5}\n",
    "    ratings = [conversion[x] for x in ratings]\n",
    "    return ratings\n"
   ]
  },
  {
   "cell_type": "code",
   "execution_count": 5,
   "metadata": {},
   "outputs": [],
   "source": [
    "# function that gets the prices of the books\n",
    "def retrieve_prices(books):\n",
    "    prices = [price.text for price in books.findAll('p', class_=\"price_color\")]\n",
    "    prices = [float(p[1:]) for p in prices]\n",
    "    return prices\n",
    "    "
   ]
  },
  {
   "cell_type": "code",
   "execution_count": 6,
   "metadata": {},
   "outputs": [],
   "source": [
    "# function that gets the availability of the books\n",
    "def retrieve_availabilities(books):\n",
    "    availability = [item.text.strip() for item in books.findAll('p', class_=\"instock availability\")]\n",
    "    return availability"
   ]
  },
  {
   "cell_type": "code",
   "execution_count": 7,
   "metadata": {},
   "outputs": [],
   "source": [
    "# script that moves to the next page using the Next button\n",
    "# There's a conditional because the Next button changes after the first page\n",
    "def scrape_it(books, pageurl):\n",
    "    if 'catalogue/' in (books.find('li', class_='next').find('a').get('href')):\n",
    "        URL = pageurl + (books.find('li', class_='next').find('a').get('href'))\n",
    "    else:\n",
    "        URL = pageurl + 'catalogue/' + (books.find('li', class_='next').find('a').get('href'))\n",
    "    page = requests.get(URL)\n",
    "    soup = bs(page.content, 'html.parser')\n",
    "    return soup\n",
    "\n"
   ]
  },
  {
   "cell_type": "code",
   "execution_count": 8,
   "metadata": {},
   "outputs": [
    {
     "name": "stdout",
     "output_type": "stream",
     "text": [
      "yes\n"
     ]
    }
   ],
   "source": [
    "books = find_block(soup)\n",
    "(books.find('li', class_='next').find('a').get('href'))\n",
    "\n",
    "if 'catalogue/' in (books.find('li', class_='next').find('a').get('href')):\n",
    "    print('yes')\n",
    "else:\n",
    "    print('no')"
   ]
  },
  {
   "cell_type": "markdown",
   "metadata": {},
   "source": [
    "## Process in Plain English\n",
    "\n",
    "Have lists made for each data set we are tracking.\n",
    "\n",
    "Run the entire process on the page, extracting all of the information for each page before moving on.\n",
    "\n",
    "Add the current information to the existing lists, so that the lists keep getting more info added.\n",
    "\n",
    "Move on to the next page, until the script can't find a \"Next\" button to press.\n",
    "If it DOES find a \"Next\" button, run the script to open the new url, and restart the scrape for that page.\n",
    "If there is no next button, break out of the script and print the results.\n",
    "\n",
    "Next, we will load the results into a Pandas dataframe."
   ]
  },
  {
   "cell_type": "code",
   "execution_count": 9,
   "metadata": {},
   "outputs": [],
   "source": [
    "titles = []\n",
    "ratings = []\n",
    "prices = []\n",
    "availabilities = []"
   ]
  },
  {
   "cell_type": "code",
   "execution_count": 10,
   "metadata": {},
   "outputs": [],
   "source": [
    "titles = []\n",
    "ratings = []\n",
    "prices = []\n",
    "availabilities = []\n",
    "\n",
    "count = 1\n",
    "\n",
    "for count in range(1,51):\n",
    "    books = find_block(soup)\n",
    "    titles = titles + retrieve_titles(books)\n",
    "    ratings = ratings + retrieve_ratings(books)\n",
    "    prices = prices + retrieve_prices(books)\n",
    "    availabilities = availabilities + retrieve_availabilities(books)\n",
    "    count = count+1\n",
    "#    if (books.find('li', class_='next'):\n",
    "#        soup = scrape_it(books, pageurl)\n",
    "#        continue\n",
    "#    else:\n",
    "#        break\n"
   ]
  },
  {
   "cell_type": "markdown",
   "metadata": {},
   "source": [
    "books = find_block(soup)\n",
    "titles = titles + retrieve_titles(books)\n",
    "ratings = ratings + retrieve_ratings(books)\n",
    "prices = prices + retrieve_prices(books)\n",
    "availabilities = availabilities + retrieve_availabilities(books)\n",
    "soup = scrape_it(books, pageurl)"
   ]
  },
  {
   "cell_type": "code",
   "execution_count": 11,
   "metadata": {},
   "outputs": [
    {
     "data": {
      "text/html": [
       "<div>\n",
       "<style scoped>\n",
       "    .dataframe tbody tr th:only-of-type {\n",
       "        vertical-align: middle;\n",
       "    }\n",
       "\n",
       "    .dataframe tbody tr th {\n",
       "        vertical-align: top;\n",
       "    }\n",
       "\n",
       "    .dataframe thead th {\n",
       "        text-align: right;\n",
       "    }\n",
       "</style>\n",
       "<table border=\"1\" class=\"dataframe\">\n",
       "  <thead>\n",
       "    <tr style=\"text-align: right;\">\n",
       "      <th></th>\n",
       "      <th>Title</th>\n",
       "      <th>Star_Rating</th>\n",
       "      <th>Price_(pounds)</th>\n",
       "      <th>Availability</th>\n",
       "    </tr>\n",
       "  </thead>\n",
       "  <tbody>\n",
       "    <tr>\n",
       "      <th>995</th>\n",
       "      <td>Our Band Could Be Your Life: Scenes from the A...</td>\n",
       "      <td>3</td>\n",
       "      <td>57.25</td>\n",
       "      <td>In stock</td>\n",
       "    </tr>\n",
       "    <tr>\n",
       "      <th>996</th>\n",
       "      <td>Olio</td>\n",
       "      <td>1</td>\n",
       "      <td>23.88</td>\n",
       "      <td>In stock</td>\n",
       "    </tr>\n",
       "    <tr>\n",
       "      <th>997</th>\n",
       "      <td>Mesaerion: The Best Science Fiction Stories 18...</td>\n",
       "      <td>1</td>\n",
       "      <td>37.59</td>\n",
       "      <td>In stock</td>\n",
       "    </tr>\n",
       "    <tr>\n",
       "      <th>998</th>\n",
       "      <td>Libertarianism for Beginners</td>\n",
       "      <td>2</td>\n",
       "      <td>51.33</td>\n",
       "      <td>In stock</td>\n",
       "    </tr>\n",
       "    <tr>\n",
       "      <th>999</th>\n",
       "      <td>It's Only the Himalayas</td>\n",
       "      <td>2</td>\n",
       "      <td>45.17</td>\n",
       "      <td>In stock</td>\n",
       "    </tr>\n",
       "  </tbody>\n",
       "</table>\n",
       "</div>"
      ],
      "text/plain": [
       "                                                 Title Star_Rating  \\\n",
       "995  Our Band Could Be Your Life: Scenes from the A...           3   \n",
       "996                                               Olio           1   \n",
       "997  Mesaerion: The Best Science Fiction Stories 18...           1   \n",
       "998                       Libertarianism for Beginners           2   \n",
       "999                            It's Only the Himalayas           2   \n",
       "\n",
       "    Price_(pounds) Availability  \n",
       "995          57.25     In stock  \n",
       "996          23.88     In stock  \n",
       "997          37.59     In stock  \n",
       "998          51.33     In stock  \n",
       "999          45.17     In stock  "
      ]
     },
     "execution_count": 11,
     "metadata": {},
     "output_type": "execute_result"
    }
   ],
   "source": [
    "df = pd.DataFrame([titles, ratings, prices, availabilities]).transpose()\n",
    "df.columns = ['Title', 'Star_Rating', 'Price_(pounds)', 'Availability']\n",
    "df.tail()"
   ]
  },
  {
   "cell_type": "markdown",
   "metadata": {},
   "source": [
    "## Level-Up: Write a new version of the script you just wrote. \n",
    "\n",
    "If you used URL hacking to generate each successive page URL, instead write a function that retrieves the link from the `\"next\"` button at the bottom of the page. Conversely, if you already used this approach above, use URL-hacking (arguably the easier of the two methods in this case)."
   ]
  },
  {
   "cell_type": "code",
   "execution_count": 12,
   "metadata": {},
   "outputs": [],
   "source": [
    "#Your code here"
   ]
  },
  {
   "cell_type": "markdown",
   "metadata": {},
   "source": [
    "## Summary\n",
    "\n",
    "Well done! You just completed your first full web scraping project! You're ready to start harnessing the power of the web!"
   ]
  }
 ],
 "metadata": {
  "kernelspec": {
   "display_name": "Python 3",
   "language": "python",
   "name": "python3"
  },
  "language_info": {
   "codemirror_mode": {
    "name": "ipython",
    "version": 3
   },
   "file_extension": ".py",
   "mimetype": "text/x-python",
   "name": "python",
   "nbconvert_exporter": "python",
   "pygments_lexer": "ipython3",
   "version": "3.6.9"
  }
 },
 "nbformat": 4,
 "nbformat_minor": 2
}
